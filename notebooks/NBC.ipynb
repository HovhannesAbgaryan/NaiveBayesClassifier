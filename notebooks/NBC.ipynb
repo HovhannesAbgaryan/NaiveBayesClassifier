{
 "cells": [
  {
   "cell_type": "code",
   "execution_count": 2,
   "id": "initial_id",
   "metadata": {
    "collapsed": true,
    "ExecuteTime": {
     "end_time": "2023-10-03T16:02:42.988247600Z",
     "start_time": "2023-10-03T16:02:41.755055Z"
    }
   },
   "outputs": [],
   "source": [
    "import pandas as pd"
   ]
  },
  {
   "cell_type": "markdown",
   "source": [
    "Custom NBC algorithm implementation using `car.csv` dataset from [Kaggle](https://www.kaggle.com/elikplim/car-evaluation-data-set)."
   ],
   "metadata": {
    "collapsed": false
   },
   "id": "3f89d537e1f51beb"
  },
  {
   "cell_type": "code",
   "execution_count": 3,
   "outputs": [],
   "source": [
    "data = pd.read_csv(\"data/raw/car.csv\", dtype = \"category\", header = None)\n",
    "data.columns = [\"buying\", \"maint\", \"doors\", \"persons\", \"lug-boot\", \"safety\", \"accept\"]"
   ],
   "metadata": {
    "collapsed": false,
    "ExecuteTime": {
     "end_time": "2023-10-03T16:02:43.044096900Z",
     "start_time": "2023-10-03T16:02:42.997225Z"
    }
   },
   "id": "b101fe1a04704956"
  },
  {
   "cell_type": "markdown",
   "source": [
    "Use the `train_test_split` method (use the documentation) to divide the data into 75% training and 25% testing data. Use parameter random_state = 0 to set the same random seed and ensure that we all get the same results."
   ],
   "metadata": {
    "collapsed": false
   },
   "id": "1245fb99642974dc"
  },
  {
   "cell_type": "code",
   "execution_count": 4,
   "outputs": [
    {
     "data": {
      "text/plain": "     buying  maint  doors persons lug-boot safety\n520    high  vhigh  5more       2      big    med\n621    high   high  5more       2    small    low\n1017    med   high      3    more    small    low\n1273    med    low  5more       2      med    med\n924     med  vhigh      4       2      big    low\n...     ...    ...    ...     ...      ...    ...\n835    high    low      4    more      big    med\n1216    med    low      3       2    small    med\n1653    low    low      3       2      big    low\n559    high   high      2    more    small    med\n684    high    med      3       4    small    low\n\n[1296 rows x 6 columns]",
      "text/html": "<div>\n<style scoped>\n    .dataframe tbody tr th:only-of-type {\n        vertical-align: middle;\n    }\n\n    .dataframe tbody tr th {\n        vertical-align: top;\n    }\n\n    .dataframe thead th {\n        text-align: right;\n    }\n</style>\n<table border=\"1\" class=\"dataframe\">\n  <thead>\n    <tr style=\"text-align: right;\">\n      <th></th>\n      <th>buying</th>\n      <th>maint</th>\n      <th>doors</th>\n      <th>persons</th>\n      <th>lug-boot</th>\n      <th>safety</th>\n    </tr>\n  </thead>\n  <tbody>\n    <tr>\n      <th>520</th>\n      <td>high</td>\n      <td>vhigh</td>\n      <td>5more</td>\n      <td>2</td>\n      <td>big</td>\n      <td>med</td>\n    </tr>\n    <tr>\n      <th>621</th>\n      <td>high</td>\n      <td>high</td>\n      <td>5more</td>\n      <td>2</td>\n      <td>small</td>\n      <td>low</td>\n    </tr>\n    <tr>\n      <th>1017</th>\n      <td>med</td>\n      <td>high</td>\n      <td>3</td>\n      <td>more</td>\n      <td>small</td>\n      <td>low</td>\n    </tr>\n    <tr>\n      <th>1273</th>\n      <td>med</td>\n      <td>low</td>\n      <td>5more</td>\n      <td>2</td>\n      <td>med</td>\n      <td>med</td>\n    </tr>\n    <tr>\n      <th>924</th>\n      <td>med</td>\n      <td>vhigh</td>\n      <td>4</td>\n      <td>2</td>\n      <td>big</td>\n      <td>low</td>\n    </tr>\n    <tr>\n      <th>...</th>\n      <td>...</td>\n      <td>...</td>\n      <td>...</td>\n      <td>...</td>\n      <td>...</td>\n      <td>...</td>\n    </tr>\n    <tr>\n      <th>835</th>\n      <td>high</td>\n      <td>low</td>\n      <td>4</td>\n      <td>more</td>\n      <td>big</td>\n      <td>med</td>\n    </tr>\n    <tr>\n      <th>1216</th>\n      <td>med</td>\n      <td>low</td>\n      <td>3</td>\n      <td>2</td>\n      <td>small</td>\n      <td>med</td>\n    </tr>\n    <tr>\n      <th>1653</th>\n      <td>low</td>\n      <td>low</td>\n      <td>3</td>\n      <td>2</td>\n      <td>big</td>\n      <td>low</td>\n    </tr>\n    <tr>\n      <th>559</th>\n      <td>high</td>\n      <td>high</td>\n      <td>2</td>\n      <td>more</td>\n      <td>small</td>\n      <td>med</td>\n    </tr>\n    <tr>\n      <th>684</th>\n      <td>high</td>\n      <td>med</td>\n      <td>3</td>\n      <td>4</td>\n      <td>small</td>\n      <td>low</td>\n    </tr>\n  </tbody>\n</table>\n<p>1296 rows × 6 columns</p>\n</div>"
     },
     "execution_count": 4,
     "metadata": {},
     "output_type": "execute_result"
    }
   ],
   "source": [
    "from sklearn.model_selection import train_test_split\n",
    "\n",
    "X_train, X_test, y_train, y_test = train_test_split(data.iloc[:,:-1], data['accept'], test_size = 0.25, random_state = 0)\n",
    "X_train"
   ],
   "metadata": {
    "collapsed": false,
    "ExecuteTime": {
     "end_time": "2023-10-03T16:02:43.238577200Z",
     "start_time": "2023-10-03T16:02:43.040107900Z"
    }
   },
   "id": "4e2e20311e449f58"
  },
  {
   "cell_type": "code",
   "execution_count": 5,
   "outputs": [],
   "source": [
    "def accuracy(actual, predicted):\n",
    "  return sum(actual == predicted) / len(predicted)"
   ],
   "metadata": {
    "collapsed": false,
    "ExecuteTime": {
     "end_time": "2023-10-03T16:02:43.272004100Z",
     "start_time": "2023-10-03T16:02:43.243564Z"
    }
   },
   "id": "95b8a45e39c79fef"
  },
  {
   "cell_type": "markdown",
   "source": [
    "If everything is implemented correctly, then accuracy on the test set:\n",
    "1. with Laplace smoothing will be about $81.25\\%$,\n",
    "2. without smoothing will be about $82.17\\%$."
   ],
   "metadata": {
    "collapsed": false
   },
   "id": "22ba449c89a68041"
  },
  {
   "cell_type": "code",
   "execution_count": 6,
   "outputs": [
    {
     "data": {
      "text/plain": "0.8217592592592593"
     },
     "execution_count": 6,
     "metadata": {},
     "output_type": "execute_result"
    }
   ],
   "source": [
    "from src.naive_bayes import NaiveBayes\n",
    "\n",
    "# With smoothing\n",
    "# model = NaiveBayes(smoothing=True)\n",
    "\n",
    "# without smoothing\n",
    "model = NaiveBayes(smoothing=False)\n",
    "\n",
    "model.fit(X_train, y_train)\n",
    "predictions = model.predict(X_test)\n",
    "accuracy(predictions, y_test)"
   ],
   "metadata": {
    "collapsed": false,
    "ExecuteTime": {
     "end_time": "2023-10-03T16:02:46.081753800Z",
     "start_time": "2023-10-03T16:02:43.258042Z"
    }
   },
   "id": "35638fffe7479f1f"
  },
  {
   "cell_type": "markdown",
   "source": [
    "## Comparing with `scikit-learn`'s implementation"
   ],
   "metadata": {
    "collapsed": false
   },
   "id": "551b2afe08229e21"
  },
  {
   "cell_type": "markdown",
   "source": [
    "For `sklearn`'s Naive Bayes implementation the data should be converted to numeric as in the case of KNN. Sklearn has different types of Naive Bayes classifiers such as `GaussianNB`, `MultinomialNB`, `BernouliNB` etc., for different types of data. To learn more about these different types visit [here](https://scikit-learn.org/stable/modules/naive_bayes.html). \n",
    "\n",
    "In our case we have categorical data and our assumption was that each feature has `categorical distribution` (generalization of Bernoulli distribution for more than 2 possible outcomes)."
   ],
   "metadata": {
    "collapsed": false
   },
   "id": "6eb08114ee0f3450"
  },
  {
   "cell_type": "code",
   "execution_count": 7,
   "outputs": [],
   "source": [
    "from sklearn.preprocessing import OrdinalEncoder\n",
    "enc = OrdinalEncoder()\n",
    "data1 = enc.fit_transform(data)\n",
    "X_train1, X_test1, y_train1, y_test1 = train_test_split(data1[:, :-1], data1[:, -1], test_size=0.25, random_state=0)"
   ],
   "metadata": {
    "collapsed": false,
    "ExecuteTime": {
     "end_time": "2023-10-03T16:02:46.214033600Z",
     "start_time": "2023-10-03T16:02:46.085742200Z"
    }
   },
   "id": "4ef06699aab5af8"
  },
  {
   "cell_type": "code",
   "execution_count": 8,
   "outputs": [
    {
     "data": {
      "text/plain": "CategoricalNB(alpha=1)",
      "text/html": "<style>#sk-container-id-1 {color: black;}#sk-container-id-1 pre{padding: 0;}#sk-container-id-1 div.sk-toggleable {background-color: white;}#sk-container-id-1 label.sk-toggleable__label {cursor: pointer;display: block;width: 100%;margin-bottom: 0;padding: 0.3em;box-sizing: border-box;text-align: center;}#sk-container-id-1 label.sk-toggleable__label-arrow:before {content: \"▸\";float: left;margin-right: 0.25em;color: #696969;}#sk-container-id-1 label.sk-toggleable__label-arrow:hover:before {color: black;}#sk-container-id-1 div.sk-estimator:hover label.sk-toggleable__label-arrow:before {color: black;}#sk-container-id-1 div.sk-toggleable__content {max-height: 0;max-width: 0;overflow: hidden;text-align: left;background-color: #f0f8ff;}#sk-container-id-1 div.sk-toggleable__content pre {margin: 0.2em;color: black;border-radius: 0.25em;background-color: #f0f8ff;}#sk-container-id-1 input.sk-toggleable__control:checked~div.sk-toggleable__content {max-height: 200px;max-width: 100%;overflow: auto;}#sk-container-id-1 input.sk-toggleable__control:checked~label.sk-toggleable__label-arrow:before {content: \"▾\";}#sk-container-id-1 div.sk-estimator input.sk-toggleable__control:checked~label.sk-toggleable__label {background-color: #d4ebff;}#sk-container-id-1 div.sk-label input.sk-toggleable__control:checked~label.sk-toggleable__label {background-color: #d4ebff;}#sk-container-id-1 input.sk-hidden--visually {border: 0;clip: rect(1px 1px 1px 1px);clip: rect(1px, 1px, 1px, 1px);height: 1px;margin: -1px;overflow: hidden;padding: 0;position: absolute;width: 1px;}#sk-container-id-1 div.sk-estimator {font-family: monospace;background-color: #f0f8ff;border: 1px dotted black;border-radius: 0.25em;box-sizing: border-box;margin-bottom: 0.5em;}#sk-container-id-1 div.sk-estimator:hover {background-color: #d4ebff;}#sk-container-id-1 div.sk-parallel-item::after {content: \"\";width: 100%;border-bottom: 1px solid gray;flex-grow: 1;}#sk-container-id-1 div.sk-label:hover label.sk-toggleable__label {background-color: #d4ebff;}#sk-container-id-1 div.sk-serial::before {content: \"\";position: absolute;border-left: 1px solid gray;box-sizing: border-box;top: 0;bottom: 0;left: 50%;z-index: 0;}#sk-container-id-1 div.sk-serial {display: flex;flex-direction: column;align-items: center;background-color: white;padding-right: 0.2em;padding-left: 0.2em;position: relative;}#sk-container-id-1 div.sk-item {position: relative;z-index: 1;}#sk-container-id-1 div.sk-parallel {display: flex;align-items: stretch;justify-content: center;background-color: white;position: relative;}#sk-container-id-1 div.sk-item::before, #sk-container-id-1 div.sk-parallel-item::before {content: \"\";position: absolute;border-left: 1px solid gray;box-sizing: border-box;top: 0;bottom: 0;left: 50%;z-index: -1;}#sk-container-id-1 div.sk-parallel-item {display: flex;flex-direction: column;z-index: 1;position: relative;background-color: white;}#sk-container-id-1 div.sk-parallel-item:first-child::after {align-self: flex-end;width: 50%;}#sk-container-id-1 div.sk-parallel-item:last-child::after {align-self: flex-start;width: 50%;}#sk-container-id-1 div.sk-parallel-item:only-child::after {width: 0;}#sk-container-id-1 div.sk-dashed-wrapped {border: 1px dashed gray;margin: 0 0.4em 0.5em 0.4em;box-sizing: border-box;padding-bottom: 0.4em;background-color: white;}#sk-container-id-1 div.sk-label label {font-family: monospace;font-weight: bold;display: inline-block;line-height: 1.2em;}#sk-container-id-1 div.sk-label-container {text-align: center;}#sk-container-id-1 div.sk-container {/* jupyter's `normalize.less` sets `[hidden] { display: none; }` but bootstrap.min.css set `[hidden] { display: none !important; }` so we also need the `!important` here to be able to override the default hidden behavior on the sphinx rendered scikit-learn.org. See: https://github.com/scikit-learn/scikit-learn/issues/21755 */display: inline-block !important;position: relative;}#sk-container-id-1 div.sk-text-repr-fallback {display: none;}</style><div id=\"sk-container-id-1\" class=\"sk-top-container\"><div class=\"sk-text-repr-fallback\"><pre>CategoricalNB(alpha=1)</pre><b>In a Jupyter environment, please rerun this cell to show the HTML representation or trust the notebook. <br />On GitHub, the HTML representation is unable to render, please try loading this page with nbviewer.org.</b></div><div class=\"sk-container\" hidden><div class=\"sk-item\"><div class=\"sk-estimator sk-toggleable\"><input class=\"sk-toggleable__control sk-hidden--visually\" id=\"sk-estimator-id-1\" type=\"checkbox\" checked><label for=\"sk-estimator-id-1\" class=\"sk-toggleable__label sk-toggleable__label-arrow\">CategoricalNB</label><div class=\"sk-toggleable__content\"><pre>CategoricalNB(alpha=1)</pre></div></div></div></div></div>"
     },
     "execution_count": 8,
     "metadata": {},
     "output_type": "execute_result"
    }
   ],
   "source": [
    "from sklearn.naive_bayes import CategoricalNB\n",
    "model1 = CategoricalNB(alpha=1)\n",
    "model1.fit(X_train1, y_train1)"
   ],
   "metadata": {
    "collapsed": false,
    "ExecuteTime": {
     "end_time": "2023-10-03T16:02:46.276863900Z",
     "start_time": "2023-10-03T16:02:46.224004400Z"
    }
   },
   "id": "c8fb8d7352aa9b84"
  },
  {
   "cell_type": "code",
   "execution_count": 9,
   "outputs": [
    {
     "data": {
      "text/plain": "0.8125"
     },
     "execution_count": 9,
     "metadata": {},
     "output_type": "execute_result"
    }
   ],
   "source": [
    "predictions1 = model1.predict(X_test1)\n",
    "accuracy(predictions1, y_test1)"
   ],
   "metadata": {
    "collapsed": false,
    "ExecuteTime": {
     "end_time": "2023-10-03T16:02:46.760912100Z",
     "start_time": "2023-10-03T16:02:46.272874800Z"
    }
   },
   "id": "14ead0ec1b14e907"
  },
  {
   "cell_type": "code",
   "execution_count": 11,
   "outputs": [
    {
     "data": {
      "text/plain": "0.8217592592592593"
     },
     "execution_count": 11,
     "metadata": {},
     "output_type": "execute_result"
    }
   ],
   "source": [
    "model1 = CategoricalNB(alpha=1e-10)\n",
    "model1.fit(X_train1, y_train1)\n",
    "predictions1 = model1.predict(X_test1)\n",
    "accuracy(predictions1, y_test1)"
   ],
   "metadata": {
    "collapsed": false,
    "ExecuteTime": {
     "end_time": "2023-10-03T16:03:24.148213Z",
     "start_time": "2023-10-03T16:03:24.068411400Z"
    }
   },
   "id": "30204a738d1af543"
  }
 ],
 "metadata": {
  "kernelspec": {
   "display_name": "Python 3",
   "language": "python",
   "name": "python3"
  },
  "language_info": {
   "codemirror_mode": {
    "name": "ipython",
    "version": 2
   },
   "file_extension": ".py",
   "mimetype": "text/x-python",
   "name": "python",
   "nbconvert_exporter": "python",
   "pygments_lexer": "ipython2",
   "version": "2.7.6"
  }
 },
 "nbformat": 4,
 "nbformat_minor": 5
}
